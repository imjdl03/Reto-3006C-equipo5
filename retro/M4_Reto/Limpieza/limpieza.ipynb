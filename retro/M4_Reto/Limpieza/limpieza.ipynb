{
 "nbformat": 4,
 "nbformat_minor": 0,
 "metadata": {
  "colab": {
   "provenance": []
  },
  "kernelspec": {
   "name": "python3",
   "language": "python",
   "display_name": "Python 3 (ipykernel)"
  },
  "language_info": {
   "name": "python"
  }
 },
 "cells": [
  {
   "cell_type": "markdown",
   "source": [
    "# **Limpieza de datos**"
   ],
   "metadata": {
    "id": "Ax21vaDyPWKi"
   }
  },
  {
   "cell_type": "markdown",
   "source": [
    "En este notebook se mostrarán los pasos seguidos para la limpieza de datos. Dentro de las cosas que se mostrarán será la eliminación de las columnas de datos que no se utilizaran, la limpieza de valores de las columnas que permanecerán (eliminar o cambiar valores nulos) y la creación de nuevas columnas que puedan permitir un análisis más profundo de los datos."
   ],
   "metadata": {
    "id": "T3wHp3fNPdKU"
   }
  },
  {
   "cell_type": "markdown",
   "source": [
    "## **Importar las librerias y los datos**\n",
    "Importamos las librerías de pandas, matplotlib y seaborn. Además, definimos las variables para poner la url de los archivos csv."
   ],
   "metadata": {
    "id": "QtSCM_ChPwoJ"
   }
  },
  {
   "cell_type": "code",
   "execution_count": 259,
   "metadata": {
    "id": "G78KuzMzkXIL",
    "ExecuteTime": {
     "end_time": "2023-08-14T18:21:12.558061Z",
     "start_time": "2023-08-14T18:21:12.520764Z"
    }
   },
   "outputs": [],
   "source": [
    "import pandas as pd\n",
    "import matplotlib.pyplot as plt\n",
    "import seaborn as sns\n",
    "\n",
    "import warnings\n",
    "warnings.filterwarnings('ignore')\n",
    "\n",
    "from sklearn.linear_model import LogisticRegression\n",
    "from sklearn.ensemble import RandomForestClassifier\n",
    "from sklearn.svm import SVC\n",
    "from sklearn.ensemble import ExtraTreesClassifier\n",
    "from sklearn.ensemble import GradientBoostingClassifier\n",
    "#from lightgbm import LGBMClassifier\n",
    "\n",
    "from xgboost import XGBClassifier\n",
    "\n",
    "from sklearn.ensemble import VotingClassifier\n",
    "from sklearn.preprocessing import MaxAbsScaler\n",
    "from sklearn.preprocessing import StandardScaler\n",
    "from sklearn.pipeline import Pipeline\n",
    "\n",
    "from sklearn.model_selection import train_test_split\n",
    "from sklearn.metrics import confusion_matrix\n",
    "from sklearn.metrics import accuracy_score\n",
    "from sklearn.model_selection import GridSearchCV"
   ]
  },
  {
   "cell_type": "code",
   "source": [
    "train_url = \"https://drive.google.com/file/d/1uRFP0zYKdnOQ1EwF1SbvSTHqH9ptZzom/view?usp=sharing\"\n",
    "test_url = \"https://drive.google.com/file/d/1v0SwbZ4fa55Qpx9ax-k-iNhgu3jdNXJJ/view?usp=sharing\""
   ],
   "metadata": {
    "id": "d9m839dXkyHI",
    "ExecuteTime": {
     "end_time": "2023-08-14T18:21:13.026417Z",
     "start_time": "2023-08-14T18:21:13.001432Z"
    }
   },
   "execution_count": 260,
   "outputs": []
  },
  {
   "cell_type": "code",
   "source": [
    "path = 'https://drive.google.com/uc?export=download&id='+train_url.split('/')[-2]\n",
    "train = pd.read_csv(path)\n",
    "\n",
    "path = 'https://drive.google.com/uc?export=download&id='+test_url.split('/')[-2]\n",
    "test = pd.read_csv(path)"
   ],
   "metadata": {
    "id": "PJCINDCulQmc",
    "ExecuteTime": {
     "end_time": "2023-08-14T18:21:15.865080Z",
     "start_time": "2023-08-14T18:21:13.666739Z"
    }
   },
   "execution_count": 261,
   "outputs": []
  },
  {
   "cell_type": "markdown",
   "source": [
    "Una vez que los datos estan cargados, podemos comprobar cuantos valores nulos se encuentran en los archivos de train y test."
   ],
   "metadata": {
    "id": "k56LfKTjQKk6"
   }
  },
  {
   "cell_type": "code",
   "source": [
    "train.isnull().sum()\n",
    "#faltan 177 en edad, esta variable es importante se tiene que buscar tecnica para llenar\n",
    "#faltan 687 valores en cabina, es mas del 60% de la variable, se puede eliminar\n",
    "#faltan 2 en puerto de embarque, son muy pocos se pueden eliminar"
   ],
   "metadata": {
    "colab": {
     "base_uri": "https://localhost:8080/"
    },
    "id": "x0QXLBmJlYwi",
    "outputId": "d8bf5fae-c163-4d82-a34f-da184b593f8c",
    "ExecuteTime": {
     "end_time": "2023-08-14T18:21:16.103637Z",
     "start_time": "2023-08-14T18:21:15.803140Z"
    }
   },
   "execution_count": 262,
   "outputs": [
    {
     "data": {
      "text/plain": "PassengerId      0\nSurvived         0\nPclass           0\nName             0\nSex              0\nAge            177\nSibSp            0\nParch            0\nTicket           0\nFare             0\nCabin          687\nEmbarked         2\ndtype: int64"
     },
     "execution_count": 262,
     "metadata": {},
     "output_type": "execute_result"
    }
   ]
  },
  {
   "cell_type": "code",
   "source": [
    "test.isnull().sum()\n",
    "#faltan 86 en edad, esta variable es importante se tiene que buscar tecnica para llenar\n",
    "#faltan 1 en precio, son muy pocos se pueden eliminar\n",
    "#faltan 327 valoren en cabina, es mas del 60% de la variable, se puede eliminar"
   ],
   "metadata": {
    "colab": {
     "base_uri": "https://localhost:8080/"
    },
    "id": "9Ya_wyM8lyRb",
    "outputId": "1f59ff5c-cd38-43d3-9028-af1a6d39ff5a",
    "ExecuteTime": {
     "end_time": "2023-08-14T18:21:16.104438Z",
     "start_time": "2023-08-14T18:21:15.823014Z"
    }
   },
   "execution_count": 263,
   "outputs": [
    {
     "data": {
      "text/plain": "PassengerId      0\nPclass           0\nName             0\nSex              0\nAge             86\nSibSp            0\nParch            0\nTicket           0\nFare             1\nCabin          327\nEmbarked         0\ndtype: int64"
     },
     "execution_count": 263,
     "metadata": {},
     "output_type": "execute_result"
    }
   ]
  },
  {
   "cell_type": "markdown",
   "source": [
    "## **Limpieza de los datos**\n",
    "Una vez que ya se decidieron las columnas que se van a utilizar, podemos comenzar a limpiar los datos. En el read.me se puede encontrar más información de las columnas que se mantienen."
   ],
   "metadata": {
    "id": "OB_A4iUFRJKF"
   }
  },
  {
   "cell_type": "markdown",
   "source": [
    "Primero, creamos una columna con los titulos que tiene cada pasajero. A pesar de que existen muchos titulos en todos los pasajeros, los podemos mapear en 6 categorías: Officer, royal, mrs, mr, miss y master.\n",
    "\n",
    "Esta información la guardamos en una nueva columna llamada Title."
   ],
   "metadata": {
    "id": "V5UnAkGJRvB9"
   }
  },
  {
   "cell_type": "code",
   "source": [
    "train['Title'] = train.Name.apply(lambda name: name.split(',')[1].split('.')[0].strip())\n",
    "test['Title'] = test.Name.apply(lambda name: name.split(',')[1].split('.')[0].strip())\n",
    "\n",
    "mapa_titulos = {\n",
    "    \"Capt\":       \"Officer\",\n",
    "    \"Col\":        \"Officer\",\n",
    "    \"Major\":      \"Officer\",\n",
    "    \"Jonkheer\":   \"Royal\",\n",
    "    \"Don\":        \"Royal\",\n",
    "    \"Sir\" :       \"Royal\",\n",
    "    \"Dr\":         \"Officer\",\n",
    "    \"Rev\":        \"Officer\",\n",
    "    \"the Countess\":\"Royal\",\n",
    "    \"Dona\":       \"Royal\",\n",
    "    \"Mme\":        \"Mrs\",\n",
    "    \"Mlle\":       \"Miss\",\n",
    "    \"Ms\":         \"Mrs\",\n",
    "    \"Mr\" :        \"Mr\",\n",
    "    \"Mrs\" :       \"Mrs\",\n",
    "    \"Miss\" :      \"Miss\",\n",
    "    \"Master\" :    \"Master\",\n",
    "    \"Lady\" :      \"Royal\"\n",
    "}\n",
    "\n",
    "train.Title = train.Title.map(mapa_titulos)\n",
    "test.Title = test.Title.map(mapa_titulos)\n",
    "\n",
    "print(train.Title.unique())\n",
    "print(test.Title.unique())"
   ],
   "metadata": {
    "colab": {
     "base_uri": "https://localhost:8080/"
    },
    "id": "QCwUdTJomYv5",
    "outputId": "0c8df250-07ce-4d6b-f46a-cf14c95ebd8f",
    "ExecuteTime": {
     "end_time": "2023-08-14T18:21:16.916694Z",
     "start_time": "2023-08-14T18:21:16.674497Z"
    }
   },
   "execution_count": 264,
   "outputs": [
    {
     "name": "stdout",
     "output_type": "stream",
     "text": [
      "['Mr' 'Mrs' 'Miss' 'Master' 'Royal' 'Officer']\n",
      "['Mr' 'Mrs' 'Miss' 'Master' 'Officer' 'Royal']\n"
     ]
    }
   ]
  },
  {
   "cell_type": "markdown",
   "source": [
    "Eliminamos las columnas de PassengerID, Ticket, Cabin y Name de los dos sets de datos que tenemos."
   ],
   "metadata": {
    "id": "bUcRlZAOSqD2"
   }
  },
  {
   "cell_type": "code",
   "source": [
    "train.drop(columns=[\"PassengerId\", \"Ticket\", \"Cabin\", \"Name\"], inplace=True)\n",
    "test.drop(columns=[\"Ticket\", \"Cabin\", \"Name\"], inplace=True)"
   ],
   "metadata": {
    "id": "t1MYfHu5mlQ2",
    "ExecuteTime": {
     "end_time": "2023-08-14T18:21:18.515548Z",
     "start_time": "2023-08-14T18:21:18.480447Z"
    }
   },
   "execution_count": 265,
   "outputs": []
  },
  {
   "cell_type": "markdown",
   "source": [
    "Eliminamos los registros que son nulos en la columna de embarked y de fare, debido a que son muy pocos registros."
   ],
   "metadata": {
    "id": "5UjvJxyfTFc2"
   }
  },
  {
   "cell_type": "code",
   "source": [
    "train.dropna(subset=['Embarked'],inplace=True)\n",
    "#test.dropna(subset=['Fare'],inplace=True)\n",
    "test.fillna(test.Fare.mean(), inplace=True)"
   ],
   "metadata": {
    "id": "qy6tQ1nknNPw",
    "ExecuteTime": {
     "end_time": "2023-08-14T18:21:19.567908Z",
     "start_time": "2023-08-14T18:21:19.472056Z"
    }
   },
   "execution_count": 266,
   "outputs": []
  },
  {
   "cell_type": "markdown",
   "source": [
    "Debido a que existen muchos registros que no cuentan con la edad, podemos estimarla tomando en cuenta la clase en la que viaja el pasajero, su titulo y su sexo. Para calcularla utilizamos el promedio de la edad de otras personas que tienen su mismo sexo, clase y título."
   ],
   "metadata": {
    "id": "3rw6fEHaTYXv"
   }
  },
  {
   "cell_type": "code",
   "source": [
    "train_age_map = train.groupby(['Title', 'Pclass', 'Sex'])['Age'].transform('mean') #Calculamos la media de edad por las características\n",
    "train['Age'].fillna(train_age_map, inplace=True) #Asignamos las edades\n",
    "\n",
    "test_age_map = test.groupby(['Title', 'Pclass', 'Sex'])['Age'].transform('mean') #Calculamos la media de edad por las características\n",
    "test['Age'].fillna(train_age_map, inplace=True) #Asignamos las edades"
   ],
   "metadata": {
    "id": "fJz3aHuhmmnt",
    "ExecuteTime": {
     "end_time": "2023-08-14T18:21:20.946894Z",
     "start_time": "2023-08-14T18:21:20.842105Z"
    }
   },
   "execution_count": 267,
   "outputs": []
  },
  {
   "cell_type": "markdown",
   "source": [
    "La variable de sexo es cualitativa, por lo que viene definida como string. Sabemos que solamente puede tomar el valor de male y female. Por esto, la podemos convertir a numeros para el procesamiento, asignando un 0 a los valores de femenino y un 1 a los valores de masculino."
   ],
   "metadata": {
    "id": "1k--trWRT8tg"
   }
  },
  {
   "cell_type": "code",
   "source": [
    "train['Sex'] = train['Sex'].map({'female': 0, 'male': 1})\n",
    "test['Sex'] = test['Sex'].map({'female': 0, 'male': 1})"
   ],
   "metadata": {
    "id": "-mVFrFNzric2",
    "ExecuteTime": {
     "end_time": "2023-08-14T18:21:22.065617Z",
     "start_time": "2023-08-14T18:21:21.957883Z"
    }
   },
   "execution_count": 268,
   "outputs": []
  },
  {
   "cell_type": "markdown",
   "source": [
    "Tenemos otras variables cualitativas dentro de los datasets. Por esto, se usa la estrategia de **one hot encoding** para generar las columnas de donde embarcaron y su titulo.\n",
    "\n",
    "Utilizamos esta tecnica en lugar de solamente cambiar los valores por 1, 2, 3, etc, porque el hecho de que un lugar de embarcación sea 1 y el otro 3, el modelo lo puede confundir con que uno es tres veces mas que el otro. Por lo tanto, esta estrategia nos crea una nueva columna con cada valor que se puede tener. Por ejemplo, embarked_C, embarked_S, etc. Y solo los registros que hayan embarcado en \"C\" tendrán un 1 en la columna de embarked_C, mientras que los demás tendrán un 0.\n",
    "\n"
   ],
   "metadata": {
    "id": "BjHYTL2sUaRd"
   }
  },
  {
   "cell_type": "code",
   "source": [
    "#Creamos las nuevas columnas para el set de train\n",
    "embarked_dummies = pd.get_dummies(train['Embarked'], prefix='Embarked')\n",
    "train = pd.concat([train, embarked_dummies], axis=1)\n",
    "train.drop('Embarked', axis=1, inplace=True) #Eliminamos la columna anterior porque ya no es necesaria.\n",
    "\n",
    "title_dummies = pd.get_dummies(train['Title'], prefix='Title')\n",
    "train = pd.concat([train, title_dummies], axis=1)\n",
    "train.drop('Title', axis=1, inplace=True)\n",
    "\n",
    "\n",
    "#Creamos las nuevas columnas para el set de test\n",
    "embarked_dummies = pd.get_dummies(test['Embarked'], prefix='Embarked')\n",
    "test = pd.concat([test, embarked_dummies], axis=1)\n",
    "test.drop('Embarked', axis=1, inplace=True)\n",
    "\n",
    "title_dummies = pd.get_dummies(test['Title'], prefix='Title')\n",
    "test = pd.concat([test, title_dummies], axis=1)\n",
    "test.drop('Title', axis=1, inplace=True)"
   ],
   "metadata": {
    "id": "ou-yykA6rbPv",
    "ExecuteTime": {
     "end_time": "2023-08-14T18:21:23.291770Z",
     "start_time": "2023-08-14T18:21:23.242549Z"
    }
   },
   "execution_count": 269,
   "outputs": []
  },
  {
   "cell_type": "markdown",
   "source": [
    "A continuación, se muestran graficas con algunas de las columnas. En estas gráficas podemos determinar si existen valores outliers (que se alejan mucho de la media) para decidir si los quitamos."
   ],
   "metadata": {
    "id": "y3tZnMPQUo8a"
   }
  },
  {
   "cell_type": "code",
   "source": [
    "#Se muestran las gráficas de caja del set de datos de train\n",
    "cols = ['Age', 'SibSp', 'Parch', 'Fare']\n",
    "\n",
    "plt.figure(figsize=(12, 8))\n",
    "for i, column in enumerate(cols, 1):\n",
    "    plt.subplot(1, 4, i)\n",
    "    sns.boxplot(y=train[column])\n",
    "    plt.ylabel(column)\n",
    "    plt.title(f\"Boxplot of {column}\")\n",
    "\n",
    "plt.tight_layout()\n",
    "plt.show()"
   ],
   "metadata": {
    "colab": {
     "base_uri": "https://localhost:8080/",
     "height": 807
    },
    "id": "nNV_dA3LuUtX",
    "outputId": "441f285e-b434-40ed-d088-42974a92af75",
    "ExecuteTime": {
     "end_time": "2023-08-14T18:21:26.630615Z",
     "start_time": "2023-08-14T18:21:24.522256Z"
    }
   },
   "execution_count": 270,
   "outputs": [
    {
     "data": {
      "text/plain": "<Figure size 864x576 with 4 Axes>",
      "image/png": "[encoded data removed]"
     },
     "metadata": {},
     "output_type": "display_data"
    }
   ]
  },
  {
   "cell_type": "code",
   "source": [
    "#Se muestran las gráficas de caja del set de datos de test\n",
    "cols = ['Age', 'SibSp', 'Parch', 'Fare']\n",
    "\n",
    "plt.figure(figsize=(12, 8))\n",
    "for i, column in enumerate(cols, 1):\n",
    "    plt.subplot(1, 4, i)\n",
    "    sns.boxplot(y=test[column])\n",
    "    plt.ylabel(column)\n",
    "    plt.title(f\"Boxplot of {column}\")\n",
    "\n",
    "plt.tight_layout()\n",
    "plt.show()"
   ],
   "metadata": {
    "colab": {
     "base_uri": "https://localhost:8080/",
     "height": 807
    },
    "id": "0Ozh1AvHve-V",
    "outputId": "497ebf5b-e8e4-4e07-8419-6581e029c201",
    "ExecuteTime": {
     "end_time": "2023-08-14T18:21:28.298476Z",
     "start_time": "2023-08-14T18:21:26.609679Z"
    }
   },
   "execution_count": 271,
   "outputs": [
    {
     "data": {
      "text/plain": "<Figure size 864x576 with 4 Axes>",
      "image/png": "[encoded data removed]"
     },
     "metadata": {},
     "output_type": "display_data"
    }
   ]
  },
  {
   "cell_type": "markdown",
   "source": [
    "Finalmente nos encontramos con que algunas columnas tienen outlier. Entonces, nos podemos deshacer de ellos."
   ],
   "metadata": {
    "id": "RIChebJKUz-C"
   }
  },
  {
   "cell_type": "code",
   "source": [
    "#Eliminamos los registros con un Fare mas alto de 300, porque casi todos se encuentran en ese rango\n",
    "train = train[train.Fare < 300]\n",
    "#test = test[test.Fare < 300]"
   ],
   "metadata": {
    "id": "gPs7-oNvwKrF",
    "ExecuteTime": {
     "end_time": "2023-08-14T18:21:28.420309Z",
     "start_time": "2023-08-14T18:21:28.279457Z"
    }
   },
   "execution_count": 272,
   "outputs": []
  },
  {
   "cell_type": "code",
   "execution_count": 273,
   "outputs": [],
   "source": [
    "train[\"Alone\"] = train.apply(lambda x: 1 if (x['SibSp'] + x['Parch']) == 0 else 0, axis=1)\n",
    "test[\"Alone\"] = test.apply(lambda x: 1 if (x['SibSp'] + x['Parch']) == 0 else 0, axis=1)"
   ],
   "metadata": {
    "collapsed": false,
    "ExecuteTime": {
     "end_time": "2023-08-14T18:21:29.164753Z",
     "start_time": "2023-08-14T18:21:29.108994Z"
    }
   }
  },
  {
   "cell_type": "code",
   "execution_count": 309,
   "outputs": [],
   "source": [
    "X = train.drop('Survived', axis=1)\n",
    "y = train['Survived']\n",
    "\n",
    "X_train, X_test, y_train, y_test = train_test_split(X, y, test_size=0.2)"
   ],
   "metadata": {
    "collapsed": false,
    "ExecuteTime": {
     "end_time": "2023-08-14T18:25:53.806857Z",
     "start_time": "2023-08-14T18:25:53.718805Z"
    }
   }
  },
  {
   "cell_type": "code",
   "execution_count": 310,
   "outputs": [
    {
     "name": "stdout",
     "output_type": "stream",
     "text": [
      "[[100   6]\n",
      " [ 18  54]]\n",
      "0.8651685393258427\n"
     ]
    }
   ],
   "source": [
    "lr = LogisticRegression()\n",
    "\n",
    "lr.fit(X_train, y_train)\n",
    "\n",
    "lr_pred = lr.predict(X_test)\n",
    "\n",
    "print(confusion_matrix(y_test, lr_pred))\n",
    "\n",
    "print(accuracy_score(y_test, lr_pred))"
   ],
   "metadata": {
    "collapsed": false,
    "ExecuteTime": {
     "end_time": "2023-08-14T18:25:54.902256Z",
     "start_time": "2023-08-14T18:25:54.601893Z"
    }
   }
  },
  {
   "cell_type": "code",
   "execution_count": 311,
   "outputs": [
    {
     "name": "stdout",
     "output_type": "stream",
     "text": [
      "[[96 10]\n",
      " [25 47]]\n",
      "0.8033707865168539\n"
     ]
    }
   ],
   "source": [
    "rf = RandomForestClassifier(n_estimators=100)\n",
    "\n",
    "rf.fit(X_train, y_train)\n",
    "\n",
    "rf_pred = rf.predict(X_test)\n",
    "\n",
    "print(confusion_matrix(y_test, rf_pred))\n",
    "\n",
    "print(accuracy_score(y_test, rf_pred))"
   ],
   "metadata": {
    "collapsed": false,
    "ExecuteTime": {
     "end_time": "2023-08-14T18:25:55.734815Z",
     "start_time": "2023-08-14T18:25:54.902823Z"
    }
   }
  },
  {
   "cell_type": "code",
   "execution_count": 312,
   "outputs": [
    {
     "name": "stdout",
     "output_type": "stream",
     "text": [
      "[[101   5]\n",
      " [ 58  14]]\n",
      "0.6460674157303371\n"
     ]
    }
   ],
   "source": [
    "svc = SVC()\n",
    "\n",
    "svc.fit(X_train, y_train)\n",
    "\n",
    "svc_pred = svc.predict(X_test)\n",
    "\n",
    "print(confusion_matrix(y_test, svc_pred))\n",
    "\n",
    "print(accuracy_score(y_test, svc_pred))"
   ],
   "metadata": {
    "collapsed": false,
    "ExecuteTime": {
     "end_time": "2023-08-14T18:25:55.873294Z",
     "start_time": "2023-08-14T18:25:55.753029Z"
    }
   }
  },
  {
   "cell_type": "code",
   "execution_count": 313,
   "outputs": [
    {
     "name": "stdout",
     "output_type": "stream",
     "text": [
      "[[98  8]\n",
      " [22 50]]\n",
      "0.8314606741573034\n"
     ]
    }
   ],
   "source": [
    "xgb = XGBClassifier()\n",
    "\n",
    "xgb.fit(X_train, y_train)\n",
    "\n",
    "xgb_pred = xgb.predict(X_test)\n",
    "\n",
    "print(confusion_matrix(y_test, xgb_pred))\n",
    "\n",
    "print(accuracy_score(y_test, xgb_pred))"
   ],
   "metadata": {
    "collapsed": false,
    "ExecuteTime": {
     "end_time": "2023-08-14T18:25:57.802226Z",
     "start_time": "2023-08-14T18:25:55.863805Z"
    }
   }
  },
  {
   "cell_type": "code",
   "execution_count": 314,
   "outputs": [
    {
     "name": "stdout",
     "output_type": "stream",
     "text": [
      "[[92 14]\n",
      " [25 47]]\n",
      "0.7808988764044944\n"
     ]
    }
   ],
   "source": [
    "etc = ExtraTreesClassifier()\n",
    "\n",
    "etc.fit(X_train, y_train)\n",
    "\n",
    "etc_pred = etc.predict(X_test)\n",
    "\n",
    "print(confusion_matrix(y_test, etc_pred))\n",
    "\n",
    "print(accuracy_score(y_test, etc_pred))"
   ],
   "metadata": {
    "collapsed": false,
    "ExecuteTime": {
     "end_time": "2023-08-14T18:25:58.306544Z",
     "start_time": "2023-08-14T18:25:57.815887Z"
    }
   }
  },
  {
   "cell_type": "code",
   "execution_count": 315,
   "outputs": [
    {
     "name": "stdout",
     "output_type": "stream",
     "text": [
      "[[100   6]\n",
      " [ 22  50]]\n",
      "0.8426966292134831\n"
     ]
    }
   ],
   "source": [
    "gbc = GradientBoostingClassifier()\n",
    "\n",
    "gbc.fit(X_train, y_train)\n",
    "\n",
    "gbc_pred = gbc.predict(X_test)\n",
    "\n",
    "print(confusion_matrix(y_test, gbc_pred))\n",
    "\n",
    "print(accuracy_score(y_test, gbc_pred))"
   ],
   "metadata": {
    "collapsed": false,
    "ExecuteTime": {
     "end_time": "2023-08-14T18:25:58.550776Z",
     "start_time": "2023-08-14T18:25:58.306930Z"
    }
   }
  },
  {
   "cell_type": "code",
   "execution_count": 316,
   "outputs": [
    {
     "name": "stdout",
     "output_type": "stream",
     "text": [
      "[[102   4]\n",
      " [ 23  49]]\n",
      "0.848314606741573\n"
     ]
    }
   ],
   "source": [
    "lr = LogisticRegression()\n",
    "rf = RandomForestClassifier(n_estimators=100)\n",
    "svc = SVC()\n",
    "xgb = XGBClassifier()\n",
    "etc = ExtraTreesClassifier()\n",
    "\n",
    "voting_c = VotingClassifier(\n",
    "    estimators=[\n",
    "        ('lr', lr), \n",
    "        ('rf', rf), \n",
    "        ('svc', svc), \n",
    "        ('xgb', xgb),\n",
    "        ('etc', etc),\n",
    "        ('gbc', gbc)\n",
    "    ], \n",
    "    voting='hard')\n",
    "\n",
    "pipeline = Pipeline([\n",
    "    ('scaler', StandardScaler()), \n",
    "    ('vc', voting_c)\n",
    "])\n",
    "\n",
    "pipeline.fit(X_train, y_train)\n",
    "\n",
    "pipeline_pred = pipeline.predict(X_test)\n",
    "\n",
    "print(confusion_matrix(y_test, pipeline_pred))\n",
    "\n",
    "print(accuracy_score(y_test, pipeline_pred))"
   ],
   "metadata": {
    "collapsed": false,
    "ExecuteTime": {
     "end_time": "2023-08-14T18:25:59.902843Z",
     "start_time": "2023-08-14T18:25:58.574985Z"
    }
   }
  },
  {
   "cell_type": "code",
   "execution_count": 308,
   "outputs": [],
   "source": [
    "predictions = pipeline.predict(test.drop('PassengerId', axis=1))\n",
    "\n",
    "submission = pd.DataFrame({\n",
    "    'PassengerId': test['PassengerId'],\n",
    "    'Survived': predictions\n",
    "})\n",
    "\n",
    "submission.to_csv('submission.csv', index=False)"
   ],
   "metadata": {
    "collapsed": false,
    "ExecuteTime": {
     "end_time": "2023-08-14T18:25:16.768020Z",
     "start_time": "2023-08-14T18:25:16.562870Z"
    }
   }
  }
 ]
}
