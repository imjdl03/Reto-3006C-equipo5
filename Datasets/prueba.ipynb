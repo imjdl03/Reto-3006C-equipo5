{
 "cells": [
  {
   "cell_type": "code",
   "execution_count": 1,
   "id": "initial_id",
   "metadata": {
    "collapsed": true,
    "ExecuteTime": {
     "end_time": "2023-08-10T17:34:13.439641Z",
     "start_time": "2023-08-10T17:34:11.352711Z"
    }
   },
   "outputs": [],
   "source": [
    "import pandas as pd"
   ]
  },
  {
   "cell_type": "code",
   "execution_count": 18,
   "outputs": [],
   "source": [
    "train = pd.read_csv(\"/Users/davidesquer/Documents/Github/Reto-3006C-equipo5/Datasets/titanic/train.csv\")"
   ],
   "metadata": {
    "collapsed": false,
    "ExecuteTime": {
     "end_time": "2023-08-10T17:47:17.904760Z",
     "start_time": "2023-08-10T17:47:17.865137Z"
    }
   },
   "id": "4875d80de49d62e9"
  },
  {
   "cell_type": "code",
   "execution_count": 19,
   "outputs": [
    {
     "data": {
      "text/plain": "PassengerId      0\nSurvived         0\nPclass           0\nName             0\nSex              0\nAge            177\nSibSp            0\nParch            0\nTicket           0\nFare             0\nCabin          687\nEmbarked         2\ndtype: int64"
     },
     "execution_count": 19,
     "metadata": {},
     "output_type": "execute_result"
    }
   ],
   "source": [
    "train.isna().sum()\n",
    "# faltantes\n",
    "# Age         177 - la edad es importante por lo que se debe buscar forma de llenar los faltantes sin afectar la distribucion.\n",
    "# Cabin       687 - se puede eliminar la columna ya que tiene mas del 60% de faltantes.\n",
    "# Embarked      2 - se puede eliminar las filas ya que son solo 2 o se puede llenar ya que hay mas pasajeros con la misma clase y precio."
   ],
   "metadata": {
    "collapsed": false,
    "ExecuteTime": {
     "end_time": "2023-08-10T17:47:18.137179Z",
     "start_time": "2023-08-10T17:47:18.048649Z"
    }
   },
   "id": "8179b02f3b74e445"
  },
  {
   "cell_type": "code",
   "execution_count": 20,
   "outputs": [],
   "source": [
    "train['Title'] = train.Name.apply(lambda name: name.split(',')[1].split('.')[0].strip())"
   ],
   "metadata": {
    "collapsed": false,
    "ExecuteTime": {
     "end_time": "2023-08-10T17:47:18.689591Z",
     "start_time": "2023-08-10T17:47:18.664114Z"
    }
   },
   "id": "307917356d3a893f"
  },
  {
   "cell_type": "code",
   "execution_count": 21,
   "outputs": [],
   "source": [
    "train.drop(columns=[\"PassengerId\", \"Ticket\", \"Cabin\", \"Name\"], inplace=True)"
   ],
   "metadata": {
    "collapsed": false,
    "ExecuteTime": {
     "end_time": "2023-08-10T17:47:19.141760Z",
     "start_time": "2023-08-10T17:47:19.110739Z"
    }
   },
   "id": "a7dd6a12119ab263"
  },
  {
   "cell_type": "code",
   "execution_count": 23,
   "outputs": [],
   "source": [
    "normalized_titles = {\n",
    "    \"Capt\":       \"Officer\",\n",
    "    \"Col\":        \"Officer\",\n",
    "    \"Major\":      \"Officer\",\n",
    "    \"Jonkheer\":   \"Royal\",\n",
    "    \"Don\":        \"Royal\",\n",
    "    \"Sir\" :       \"Royal\",\n",
    "    \"Dr\":         \"Officer\",\n",
    "    \"Rev\":        \"Officer\",\n",
    "    \"the Countess\":\"Royal\",\n",
    "    \"Dona\":       \"Royal\",\n",
    "    \"Mme\":        \"Mrs\",\n",
    "    \"Mlle\":       \"Miss\",\n",
    "    \"Ms\":         \"Mrs\",\n",
    "    \"Mr\" :        \"Mr\",\n",
    "    \"Mrs\" :       \"Mrs\",\n",
    "    \"Miss\" :      \"Miss\",\n",
    "    \"Master\" :    \"Master\",\n",
    "    \"Lady\" :      \"Royal\"\n",
    "}\n",
    "# map the normalized titles to the current titles for train and test data.\n",
    "train.Title = train.Title.map(normalized_titles)"
   ],
   "metadata": {
    "collapsed": false,
    "ExecuteTime": {
     "end_time": "2023-08-10T17:47:58.315247Z",
     "start_time": "2023-08-10T17:47:58.263209Z"
    }
   },
   "id": "ffb129ad37dd12d1"
  },
  {
   "cell_type": "code",
   "execution_count": 25,
   "outputs": [
    {
     "data": {
      "text/plain": "Title\nMaster      4.574167\nMiss       21.804054\nMr         32.368090\nMrs        35.718182\nOfficer    46.705882\nRoyal      41.600000\nName: Age, dtype: float64"
     },
     "execution_count": 25,
     "metadata": {},
     "output_type": "execute_result"
    }
   ],
   "source": [
    "#drop test.Fare null values, and create a new feature CategoricalFare\n",
    "train.dropna(subset=['Embarked'],inplace=True)"
   ],
   "metadata": {
    "collapsed": false,
    "ExecuteTime": {
     "end_time": "2023-08-10T17:48:09.296604Z",
     "start_time": "2023-08-10T17:48:09.282456Z"
    }
   },
   "id": "e47943df7613a358"
  },
  {
   "cell_type": "code",
   "execution_count": 33,
   "outputs": [],
   "source": [
    "# ge the average fare for each passenger class, titlem and sex\n",
    "map2 = train.groupby(['Title', 'Pclass', 'Sex']).Age.mean().reset_index()"
   ],
   "metadata": {
    "collapsed": false,
    "ExecuteTime": {
     "end_time": "2023-08-10T18:15:17.459957Z",
     "start_time": "2023-08-10T18:15:17.394873Z"
    }
   },
   "id": "fffd4d0f72d1190a"
  },
  {
   "cell_type": "code",
   "execution_count": 36,
   "outputs": [
    {
     "data": {
      "text/plain": "0      28.724891\n1      40.400000\n2      16.123188\n3      40.400000\n4      28.724891\n         ...    \n886    42.000000\n887    29.744681\n888    16.123188\n889    41.580460\n890    28.724891\nName: Age, Length: 891, dtype: float64"
     },
     "execution_count": 36,
     "metadata": {},
     "output_type": "execute_result"
    }
   ],
   "source": [
    "train.groupby(['Title', 'Pclass', 'Sex'])['Age'].transform('mean')\n",
    "\n",
    "titanic['Age'].fillna(avg_ages, inplace=True)"
   ],
   "metadata": {
    "collapsed": false,
    "ExecuteTime": {
     "end_time": "2023-08-10T18:17:22.492228Z",
     "start_time": "2023-08-10T18:17:22.469540Z"
    }
   },
   "id": "ea55625e8d866a04"
  }
 ],
 "metadata": {
  "kernelspec": {
   "display_name": "Python 3",
   "language": "python",
   "name": "python3"
  },
  "language_info": {
   "codemirror_mode": {
    "name": "ipython",
    "version": 2
   },
   "file_extension": ".py",
   "mimetype": "text/x-python",
   "name": "python",
   "nbconvert_exporter": "python",
   "pygments_lexer": "ipython2",
   "version": "2.7.6"
  }
 },
 "nbformat": 4,
 "nbformat_minor": 5
}
